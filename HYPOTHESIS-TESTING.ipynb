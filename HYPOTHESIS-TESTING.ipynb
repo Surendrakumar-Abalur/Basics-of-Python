{
 "cells": [
  {
   "cell_type": "markdown",
   "id": "b0cef097",
   "metadata": {},
   "source": [
    "# HYPOTHESIS TESTING"
   ]
  },
  {
   "cell_type": "code",
   "execution_count": 2,
   "id": "c83b425a",
   "metadata": {},
   "outputs": [
    {
     "name": "stdout",
     "output_type": "stream",
     "text": [
      "\n",
      "T-Test Results:\n",
      "Test Statistic (t): -38.00\n",
      "Degrees of Freedom (df): 24\n",
      "Critical Value (alpha = 0.05, one-tailed): 1.64\n",
      "Conclusion: Fail to reject the null hypothesis. There is not enough evidence to reject the model's prediction about the mean weekly operating cost.\n"
     ]
    }
   ],
   "source": [
    "import numpy as np\n",
    "from scipy.stats import ttest_1samp\n",
    "\n",
    "# Sample mean weekly cost (Rs.)\n",
    "sample_mean = 3050\n",
    "\n",
    "# Theoretical mean weekly cost according to the model (for X = 600 units)\n",
    " # Assuming conversion rate Rs. 1 = $1\n",
    "theoretical_mean = 1000 + (5 * 600) \n",
    "\n",
    "# Standard deviation (sigma)\n",
    "# Assuming conversion rate Rs. 1 = $1\n",
    "sigma = 5 * 25  \n",
    "\n",
    "# Sample size\n",
    "sample_size = 25\n",
    "\n",
    "# State the Hypotheses\n",
    "# Null Hypothesis (H0): The mean weekly operating cost is Rs. 4,000 (according to the model).\n",
    "# Alternative Hypothesis (H1): The mean weekly operating cost is  **higher** than Rs. 4,000 (as claimed by restaurant owners).\n",
    "\n",
    "# Calculate the Test Statistic (t-statistic)\n",
    "t_statistic = (sample_mean - theoretical_mean) / (sigma / np.sqrt(sample_size))\n",
    "\n",
    "# Determine the Critical Value (one-tailed test)\n",
    "alpha = 0.05  # Significance level\n",
    "from scipy.stats import norm\n",
    "\n",
    "# Degrees of freedom (df) = n - 1\n",
    "degrees_of_freedom = sample_size - 1\n",
    "\n",
    "# Critical value from standard normal z-distribution table (one-tailed)\n",
    "critical_value = norm.ppf(1 - alpha)\n",
    "\n",
    "# Make a Decision\n",
    "print(\"\\nT-Test Results:\")\n",
    "print(f\"Test Statistic (t): {t_statistic:.2f}\")\n",
    "print(f\"Degrees of Freedom (df): {degrees_of_freedom}\")\n",
    "print(f\"Critical Value (alpha = 0.05, one-tailed): {critical_value:.2f}\")\n",
    "\n",
    "# Conclusion\n",
    "if t_statistic > critical_value:\n",
    "    print(\"Conclusion: Reject the null hypothesis. There is strong evidence to support the claim that the weekly operating costs are higher than the model suggests.\")\n",
    "else:\n",
    "    print(\"Conclusion: Fail to reject the null hypothesis. There is not enough evidence to reject the model's prediction about the mean weekly operating cost.\")\n"
   ]
  }
 ],
 "metadata": {
  "kernelspec": {
   "display_name": "Python 3 (ipykernel)",
   "language": "python",
   "name": "python3"
  },
  "language_info": {
   "codemirror_mode": {
    "name": "ipython",
    "version": 3
   },
   "file_extension": ".py",
   "mimetype": "text/x-python",
   "name": "python",
   "nbconvert_exporter": "python",
   "pygments_lexer": "ipython3",
   "version": "3.11.5"
  }
 },
 "nbformat": 4,
 "nbformat_minor": 5
}
